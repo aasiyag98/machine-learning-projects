{
 "cells": [
  {
   "cell_type": "markdown",
   "metadata": {},
   "source": [
    "## Compulsory Task 1"
   ]
  },
  {
   "cell_type": "code",
   "execution_count": 285,
   "metadata": {},
   "outputs": [],
   "source": [
    "# Importing necessary modules\n",
    "from sklearn.tree import DecisionTreeClassifier\n",
    "from sklearn.ensemble import RandomForestClassifier\n",
    "from sklearn.ensemble import BaggingClassifier\n",
    "from sklearn.ensemble import AdaBoostClassifier\n",
    "from sklearn.model_selection import train_test_split\n",
    "\n",
    "import pandas as pd\n",
    "import numpy as np\n",
    "import matplotlib.pyplot as plt"
   ]
  },
  {
   "cell_type": "markdown",
   "metadata": {},
   "source": [
    "### Loading Data & Data Cleaning\n",
    "Here, any unnecessary columns are dropped (such as columns that contain strings). Also, as there are missing values in the 'Age' column, these empty spaces are filled with imputed values."
   ]
  },
  {
   "cell_type": "code",
   "execution_count": 286,
   "metadata": {},
   "outputs": [
    {
     "data": {
      "text/html": [
       "<div>\n",
       "<style scoped>\n",
       "    .dataframe tbody tr th:only-of-type {\n",
       "        vertical-align: middle;\n",
       "    }\n",
       "\n",
       "    .dataframe tbody tr th {\n",
       "        vertical-align: top;\n",
       "    }\n",
       "\n",
       "    .dataframe thead th {\n",
       "        text-align: right;\n",
       "    }\n",
       "</style>\n",
       "<table border=\"1\" class=\"dataframe\">\n",
       "  <thead>\n",
       "    <tr style=\"text-align: right;\">\n",
       "      <th></th>\n",
       "      <th>PassengerId</th>\n",
       "      <th>Survived</th>\n",
       "      <th>Pclass</th>\n",
       "      <th>Name</th>\n",
       "      <th>Sex</th>\n",
       "      <th>Age</th>\n",
       "      <th>SibSp</th>\n",
       "      <th>Parch</th>\n",
       "      <th>Ticket</th>\n",
       "      <th>Fare</th>\n",
       "      <th>Cabin</th>\n",
       "      <th>Embarked</th>\n",
       "    </tr>\n",
       "  </thead>\n",
       "  <tbody>\n",
       "    <tr>\n",
       "      <th>0</th>\n",
       "      <td>1</td>\n",
       "      <td>0</td>\n",
       "      <td>3</td>\n",
       "      <td>Braund, Mr. Owen Harris</td>\n",
       "      <td>male</td>\n",
       "      <td>22.0</td>\n",
       "      <td>1</td>\n",
       "      <td>0</td>\n",
       "      <td>A/5 21171</td>\n",
       "      <td>7.2500</td>\n",
       "      <td>NaN</td>\n",
       "      <td>S</td>\n",
       "    </tr>\n",
       "    <tr>\n",
       "      <th>1</th>\n",
       "      <td>2</td>\n",
       "      <td>1</td>\n",
       "      <td>1</td>\n",
       "      <td>Cumings, Mrs. John Bradley (Florence Briggs Th...</td>\n",
       "      <td>female</td>\n",
       "      <td>38.0</td>\n",
       "      <td>1</td>\n",
       "      <td>0</td>\n",
       "      <td>PC 17599</td>\n",
       "      <td>71.2833</td>\n",
       "      <td>C85</td>\n",
       "      <td>C</td>\n",
       "    </tr>\n",
       "    <tr>\n",
       "      <th>2</th>\n",
       "      <td>3</td>\n",
       "      <td>1</td>\n",
       "      <td>3</td>\n",
       "      <td>Heikkinen, Miss. Laina</td>\n",
       "      <td>female</td>\n",
       "      <td>26.0</td>\n",
       "      <td>0</td>\n",
       "      <td>0</td>\n",
       "      <td>STON/O2. 3101282</td>\n",
       "      <td>7.9250</td>\n",
       "      <td>NaN</td>\n",
       "      <td>S</td>\n",
       "    </tr>\n",
       "    <tr>\n",
       "      <th>3</th>\n",
       "      <td>4</td>\n",
       "      <td>1</td>\n",
       "      <td>1</td>\n",
       "      <td>Futrelle, Mrs. Jacques Heath (Lily May Peel)</td>\n",
       "      <td>female</td>\n",
       "      <td>35.0</td>\n",
       "      <td>1</td>\n",
       "      <td>0</td>\n",
       "      <td>113803</td>\n",
       "      <td>53.1000</td>\n",
       "      <td>C123</td>\n",
       "      <td>S</td>\n",
       "    </tr>\n",
       "    <tr>\n",
       "      <th>4</th>\n",
       "      <td>5</td>\n",
       "      <td>0</td>\n",
       "      <td>3</td>\n",
       "      <td>Allen, Mr. William Henry</td>\n",
       "      <td>male</td>\n",
       "      <td>35.0</td>\n",
       "      <td>0</td>\n",
       "      <td>0</td>\n",
       "      <td>373450</td>\n",
       "      <td>8.0500</td>\n",
       "      <td>NaN</td>\n",
       "      <td>S</td>\n",
       "    </tr>\n",
       "  </tbody>\n",
       "</table>\n",
       "</div>"
      ],
      "text/plain": [
       "   PassengerId  Survived  Pclass  \\\n",
       "0            1         0       3   \n",
       "1            2         1       1   \n",
       "2            3         1       3   \n",
       "3            4         1       1   \n",
       "4            5         0       3   \n",
       "\n",
       "                                                Name     Sex   Age  SibSp  \\\n",
       "0                            Braund, Mr. Owen Harris    male  22.0      1   \n",
       "1  Cumings, Mrs. John Bradley (Florence Briggs Th...  female  38.0      1   \n",
       "2                             Heikkinen, Miss. Laina  female  26.0      0   \n",
       "3       Futrelle, Mrs. Jacques Heath (Lily May Peel)  female  35.0      1   \n",
       "4                           Allen, Mr. William Henry    male  35.0      0   \n",
       "\n",
       "   Parch            Ticket     Fare Cabin Embarked  \n",
       "0      0         A/5 21171   7.2500   NaN        S  \n",
       "1      0          PC 17599  71.2833   C85        C  \n",
       "2      0  STON/O2. 3101282   7.9250   NaN        S  \n",
       "3      0            113803  53.1000  C123        S  \n",
       "4      0            373450   8.0500   NaN        S  "
      ]
     },
     "execution_count": 286,
     "metadata": {},
     "output_type": "execute_result"
    }
   ],
   "source": [
    "# Reading data from 'titanic.csv' file and storing data in dataframe.\n",
    "df = pd.read_csv('titanic.csv', encoding='unicode_escape')\n",
    "\n",
    "# Displaying first 5 rows of dataframe.\n",
    "df.head()"
   ]
  },
  {
   "cell_type": "code",
   "execution_count": 287,
   "metadata": {},
   "outputs": [
    {
     "data": {
      "text/html": [
       "<div>\n",
       "<style scoped>\n",
       "    .dataframe tbody tr th:only-of-type {\n",
       "        vertical-align: middle;\n",
       "    }\n",
       "\n",
       "    .dataframe tbody tr th {\n",
       "        vertical-align: top;\n",
       "    }\n",
       "\n",
       "    .dataframe thead th {\n",
       "        text-align: right;\n",
       "    }\n",
       "</style>\n",
       "<table border=\"1\" class=\"dataframe\">\n",
       "  <thead>\n",
       "    <tr style=\"text-align: right;\">\n",
       "      <th></th>\n",
       "      <th>Survived</th>\n",
       "      <th>Pclass</th>\n",
       "      <th>Age</th>\n",
       "      <th>SibSp</th>\n",
       "      <th>Parch</th>\n",
       "      <th>Fare</th>\n",
       "    </tr>\n",
       "  </thead>\n",
       "  <tbody>\n",
       "    <tr>\n",
       "      <th>0</th>\n",
       "      <td>0</td>\n",
       "      <td>3</td>\n",
       "      <td>22.0</td>\n",
       "      <td>1</td>\n",
       "      <td>0</td>\n",
       "      <td>7.2500</td>\n",
       "    </tr>\n",
       "    <tr>\n",
       "      <th>1</th>\n",
       "      <td>1</td>\n",
       "      <td>1</td>\n",
       "      <td>38.0</td>\n",
       "      <td>1</td>\n",
       "      <td>0</td>\n",
       "      <td>71.2833</td>\n",
       "    </tr>\n",
       "    <tr>\n",
       "      <th>2</th>\n",
       "      <td>1</td>\n",
       "      <td>3</td>\n",
       "      <td>26.0</td>\n",
       "      <td>0</td>\n",
       "      <td>0</td>\n",
       "      <td>7.9250</td>\n",
       "    </tr>\n",
       "    <tr>\n",
       "      <th>3</th>\n",
       "      <td>1</td>\n",
       "      <td>1</td>\n",
       "      <td>35.0</td>\n",
       "      <td>1</td>\n",
       "      <td>0</td>\n",
       "      <td>53.1000</td>\n",
       "    </tr>\n",
       "    <tr>\n",
       "      <th>4</th>\n",
       "      <td>0</td>\n",
       "      <td>3</td>\n",
       "      <td>35.0</td>\n",
       "      <td>0</td>\n",
       "      <td>0</td>\n",
       "      <td>8.0500</td>\n",
       "    </tr>\n",
       "  </tbody>\n",
       "</table>\n",
       "</div>"
      ],
      "text/plain": [
       "   Survived  Pclass   Age  SibSp  Parch     Fare\n",
       "0         0       3  22.0      1      0   7.2500\n",
       "1         1       1  38.0      1      0  71.2833\n",
       "2         1       3  26.0      0      0   7.9250\n",
       "3         1       1  35.0      1      0  53.1000\n",
       "4         0       3  35.0      0      0   8.0500"
      ]
     },
     "execution_count": 287,
     "metadata": {},
     "output_type": "execute_result"
    }
   ],
   "source": [
    "# Dropping any columns that contain strings or have too many missing values.\n",
    "data = df.drop(['PassengerId','Sex','Name','Ticket','Cabin','Embarked'], axis=1)\n",
    "data.head()"
   ]
  },
  {
   "cell_type": "code",
   "execution_count": 288,
   "metadata": {},
   "outputs": [
    {
     "name": "stdout",
     "output_type": "stream",
     "text": [
      "Pclass\n",
      "1    37.0\n",
      "2    29.0\n",
      "3    24.0\n",
      "Name: Age, dtype: float64\n"
     ]
    },
    {
     "name": "stderr",
     "output_type": "stream",
     "text": [
      "/var/folders/tf/jb3kbn_x7yn1kh8xwwzcqrbc0000gn/T/ipykernel_39543/1567161816.py:14: FutureWarning: The behavior of `series[i:j]` with an integer-dtype index is deprecated. In a future version, this will be treated as *label-based* indexing, consistent with e.g. `series[i]` lookups. To retain the old behavior, use `series.iloc[i:j]`. To get the future behavior, use `series.loc[i:j]`.\n",
      "  data['Age'].fillna(value=round(median_age[2:3][3]), inplace=True)\n",
      "/var/folders/tf/jb3kbn_x7yn1kh8xwwzcqrbc0000gn/T/ipykernel_39543/1567161816.py:10: FutureWarning: The behavior of `series[i:j]` with an integer-dtype index is deprecated. In a future version, this will be treated as *label-based* indexing, consistent with e.g. `series[i]` lookups. To retain the old behavior, use `series.iloc[i:j]`. To get the future behavior, use `series.loc[i:j]`.\n",
      "  data['Age'].fillna(value=round(median_age[0:1][1]), inplace=True)\n",
      "/var/folders/tf/jb3kbn_x7yn1kh8xwwzcqrbc0000gn/T/ipykernel_39543/1567161816.py:12: FutureWarning: The behavior of `series[i:j]` with an integer-dtype index is deprecated. In a future version, this will be treated as *label-based* indexing, consistent with e.g. `series[i]` lookups. To retain the old behavior, use `series.iloc[i:j]`. To get the future behavior, use `series.loc[i:j]`.\n",
      "  data['Age'].fillna(value=round(median_age[1:2][2]), inplace=True)\n"
     ]
    }
   ],
   "source": [
    "# Replacing missing values in 'Age' column with median ages imputed from the 'Pclass' column.\n",
    "\n",
    "# Finding the median age for each passenger class\n",
    "median_age = data.groupby(['Pclass'])['Age'].median()\n",
    "print(median_age)\n",
    "\n",
    "# Depending on the passengers class, any missing age values are replaced with the median age for that class.\n",
    "for passenger_class in data['Pclass']:\n",
    "    if passenger_class == 1:\n",
    "        data['Age'].fillna(value=round(median_age[0:1][1]), inplace=True)\n",
    "    elif passenger_class == 2:\n",
    "        data['Age'].fillna(value=round(median_age[1:2][2]), inplace=True)\n",
    "    elif passenger_class == 3:\n",
    "        data['Age'].fillna(value=round(median_age[2:3][3]), inplace=True)\n",
    "    else:\n",
    "        print('Error: Something went wrong...')"
   ]
  },
  {
   "cell_type": "markdown",
   "metadata": {},
   "source": [
    "### Training the Models\n",
    "3 Models (Bagged, Boosted and Random Forest Trees) are trained on the training data and their accuracies are reported."
   ]
  },
  {
   "cell_type": "code",
   "execution_count": 289,
   "metadata": {},
   "outputs": [
    {
     "name": "stdout",
     "output_type": "stream",
     "text": [
      "Training Set Size: (712, 5) (712,)\n",
      "Test Set Size: (179, 5) (179,)\n"
     ]
    }
   ],
   "source": [
    "# Assigning independent variables to 'x' variable.\n",
    "# Assigning dependent variable to 'y' variable.\n",
    "# Reshaping variables to allow for compatibility.\n",
    "x = data.iloc[:,[1,2,3,4,5]].values.reshape(-1,5)\n",
    "y = data.iloc[:,0].values\n",
    "\n",
    "# Splitting dataset into 80% training and 20% testing.\n",
    "x_train, x_test, y_train, y_test = train_test_split(x,y, test_size=0.2)\n",
    "\n",
    "print(f'Training Set Size: {x_train.shape} {y_train.shape}')\n",
    "print(f'Test Set Size: {x_test.shape} {y_test.shape}')"
   ]
  },
  {
   "cell_type": "code",
   "execution_count": 290,
   "metadata": {},
   "outputs": [
    {
     "name": "stdout",
     "output_type": "stream",
     "text": [
      "Testing accuracy of models: \n",
      "Bagged Tree Accuracy:\t 0.7039106145251397\n",
      "Random Forest Accuracy:\t 0.6983240223463687\n",
      "Boosted Tree Accuracy:\t 0.659217877094972\n"
     ]
    }
   ],
   "source": [
    "# Creating our Base Model\n",
    "base_model = DecisionTreeClassifier(max_depth=4)\n",
    "\n",
    "# Creating and Training Bagged Model.\n",
    "bagged_model = BaggingClassifier(base_estimator=base_model, n_estimators=100)\n",
    "bagged_model.fit(x_train, y_train)\n",
    "\n",
    "# Creating and Training Random Forest Model.\n",
    "random_forest = RandomForestClassifier(max_depth=4, n_estimators=100)\n",
    "random_forest.fit(x_train, y_train)\n",
    "\n",
    "# Creating and Training Boosted Model.\n",
    "boosted_model = AdaBoostClassifier(base_estimator=base_model, n_estimators=100)\n",
    "boosted_model.fit(x_train, y_train)\n",
    "\n",
    "# Calculating testing accuracies of all models.\n",
    "print(\"Testing accuracy of models: \")\n",
    "print(f\"Bagged Tree Accuracy:\\t {bagged_model.score(x_test,y_test)}\")\n",
    "print(f\"Random Forest Accuracy:\\t {random_forest.score(x_test,y_test)}\")\n",
    "print(f\"Boosted Tree Accuracy:\\t {boosted_model.score(x_test,y_test)}\")"
   ]
  },
  {
   "cell_type": "markdown",
   "metadata": {},
   "source": [
    "### Finding Most Important Features\n",
    "The Random Forest model is used to determine which of the features contributes the most in predicting whether a passenger survives or not."
   ]
  },
  {
   "cell_type": "code",
   "execution_count": 291,
   "metadata": {},
   "outputs": [
    {
     "data": {
      "text/plain": [
       "4    0.356694\n",
       "0    0.337345\n",
       "1    0.175830\n",
       "2    0.079005\n",
       "3    0.051125\n",
       "dtype: float64"
      ]
     },
     "execution_count": 291,
     "metadata": {},
     "output_type": "execute_result"
    }
   ],
   "source": [
    "important_features = pd.Series(random_forest.feature_importances_).sort_values(ascending=False)\n",
    "important_features"
   ]
  },
  {
   "cell_type": "markdown",
   "metadata": {},
   "source": [
    "We can see that the features that contribute the most to the predictions are:\n",
    "1) Fare\n",
    "2) Passenger Class\n",
    "3) Age\n",
    "4) Sibling/Spouse\n",
    "5) Parent/Child"
   ]
  },
  {
   "cell_type": "markdown",
   "metadata": {},
   "source": [
    "### Tuning Parameters\n",
    "The Boosted Model is used to tune the n_estimators and max_depth parameters.\n",
    "First, the max_depth is kept at 4, whilst the n_estimators is tuned from 1 to 1001 in steps of 100.\n",
    "Next, the n_estimators is kept at 100, whilst max_depth is tuned from 1 to 10."
   ]
  },
  {
   "cell_type": "code",
   "execution_count": 292,
   "metadata": {},
   "outputs": [
    {
     "name": "stdout",
     "output_type": "stream",
     "text": [
      "Estimators: 1 \t Accuracy: 0.6703910614525139\n",
      "Estimators: 101 \t Accuracy: 0.664804469273743\n",
      "Estimators: 201 \t Accuracy: 0.6871508379888268\n",
      "Estimators: 301 \t Accuracy: 0.6983240223463687\n",
      "Estimators: 401 \t Accuracy: 0.6871508379888268\n",
      "Estimators: 501 \t Accuracy: 0.7039106145251397\n",
      "Estimators: 601 \t Accuracy: 0.6927374301675978\n",
      "Estimators: 701 \t Accuracy: 0.7094972067039106\n",
      "Estimators: 801 \t Accuracy: 0.6927374301675978\n",
      "Estimators: 901 \t Accuracy: 0.6759776536312849\n",
      "Estimators: 1001 \t Accuracy: 0.7039106145251397\n",
      "Depths: 1 \t Accuracy: 0.6927374301675978\n",
      "Depths: 2 \t Accuracy: 0.664804469273743\n",
      "Depths: 3 \t Accuracy: 0.6703910614525139\n",
      "Depths: 4 \t Accuracy: 0.6871508379888268\n",
      "Depths: 5 \t Accuracy: 0.659217877094972\n",
      "Depths: 6 \t Accuracy: 0.6759776536312849\n",
      "Depths: 7 \t Accuracy: 0.6703910614525139\n",
      "Depths: 8 \t Accuracy: 0.6424581005586593\n",
      "Depths: 9 \t Accuracy: 0.6424581005586593\n",
      "Depths: 10 \t Accuracy: 0.659217877094972\n"
     ]
    },
    {
     "data": {
      "text/plain": [
       "Text(0, 0.5, 'Accuracy')"
      ]
     },
     "execution_count": 292,
     "metadata": {},
     "output_type": "execute_result"
    },
    {
     "data": {
      "image/png": "[encoded data removed]",
      "text/plain": [
       "<Figure size 640x480 with 1 Axes>"
      ]
     },
     "metadata": {},
     "output_type": "display_data"
    },
    {
     "data": {
      "image/png": "[encoded data removed]",
      "text/plain": [
       "<Figure size 640x480 with 1 Axes>"
      ]
     },
     "metadata": {},
     "output_type": "display_data"
    }
   ],
   "source": [
    "# Boosted Tree\n",
    "estimators = range(1,1100,100)\n",
    "depths = range(1,11)\n",
    "est_accuracy = []\n",
    "depth_accuracy = []\n",
    "\n",
    "# Keeping Max Depth=4 and Adjusting Number of Estimators.\n",
    "for n in estimators:\n",
    "    base = DecisionTreeClassifier(max_depth=4)\n",
    "    model = AdaBoostClassifier(base_estimator=base, n_estimators=n)\n",
    "    model.fit(x_train,y_train)\n",
    "\n",
    "    print(f\"Estimators: {n} \\t Accuracy: {model.score(x_test,y_test)}\")\n",
    "    est_accuracy.append(model.score(x_test,y_test))\n",
    "\n",
    "best_est = estimators[np.argmax(est_accuracy)]\n",
    "\n",
    "# Keeping Number of Estimator=100 and Adjusting Max Depth.\n",
    "for d in depths:\n",
    "    base = DecisionTreeClassifier(max_depth=d)\n",
    "    model = AdaBoostClassifier(base_estimator=base, n_estimators=best_est)\n",
    "    model.fit(x_train,y_train)\n",
    "\n",
    "    print(f\"Depths: {d} \\t Accuracy: {model.score(x_test,y_test)}\")\n",
    "    depth_accuracy.append(model.score(x_test,y_test))\n",
    "\n",
    "# Plotting the testing accuracies for each max_depth and n_estimators values.\n",
    "plt.figure()\n",
    "plt.plot(estimators,est_accuracy)\n",
    "plt.xlabel('Number of Estimators')\n",
    "plt.ylabel('Accuracy')\n",
    "\n",
    "plt.figure()\n",
    "plt.plot(depths,depth_accuracy)\n",
    "plt.xlabel('Max. Depths')\n",
    "plt.ylabel('Accuracy')\n"
   ]
  },
  {
   "cell_type": "code",
   "execution_count": 293,
   "metadata": {},
   "outputs": [
    {
     "name": "stdout",
     "output_type": "stream",
     "text": [
      "Best Number of Estimators:  701\n",
      "Best Depth Value:  1\n"
     ]
    }
   ],
   "source": [
    "# Displaying the values for max_depth and n_estimators that produced the best testing accuracy.\n",
    "best_depth = depths[np.argmax(depth_accuracy)]\n",
    "print(\"Best Number of Estimators: \", best_est)\n",
    "print(\"Best Depth Value: \", best_depth)"
   ]
  },
  {
   "cell_type": "markdown",
   "metadata": {},
   "source": [
    "### Retraining Models with Best Depth and Number of Estimator Values"
   ]
  },
  {
   "cell_type": "code",
   "execution_count": 294,
   "metadata": {},
   "outputs": [
    {
     "name": "stdout",
     "output_type": "stream",
     "text": [
      "Accuracy of models using tuned parameters: \n",
      "Bagged Tree Accuracy:\t 0.6759776536312849\n",
      "Random Forest Accuracy:\t 0.6983240223463687\n",
      "Boosted Tree Accuracy:\t 0.6927374301675978\n"
     ]
    }
   ],
   "source": [
    "# Creating Base Model\n",
    "base_model = DecisionTreeClassifier(max_depth=best_depth)\n",
    "\n",
    "# Creating and Training Bagged Model with Tuned Parameters.\n",
    "bagged_model = BaggingClassifier(base_estimator=base_model, n_estimators=best_est)\n",
    "bagged_model.fit(x_train, y_train)\n",
    "\n",
    "# Creating and Training Random Forest Model with Tuned Parameters.\n",
    "random_forest = RandomForestClassifier(max_depth=best_depth, n_estimators=best_est)\n",
    "random_forest.fit(x_train, y_train)\n",
    "\n",
    "# Creating and Training Boosted Model with Tuned Parameters.\n",
    "boosted_model = AdaBoostClassifier(base_estimator=base_model, n_estimators=best_est)\n",
    "boosted_model.fit(x_train, y_train)\n",
    "\n",
    "print(\"Accuracy of models using tuned parameters: \")\n",
    "print(f\"Bagged Tree Accuracy:\\t {bagged_model.score(x_test,y_test)}\")\n",
    "print(f\"Random Forest Accuracy:\\t {random_forest.score(x_test,y_test)}\")\n",
    "print(f\"Boosted Tree Accuracy:\\t {boosted_model.score(x_test,y_test)}\")"
   ]
  },
  {
   "cell_type": "code",
   "execution_count": 295,
   "metadata": {},
   "outputs": [
    {
     "name": "stdout",
     "output_type": "stream",
     "text": [
      "\n",
      "Without Tuning, the Best Performing Model was: Random Forest (n_estimators=100, max_depth=4)\n",
      "\n",
      "With Tuning, the Best Performing Model was: Random Forest (n_estimators=701, max_depth=1)\n",
      "\n",
      "\n"
     ]
    }
   ],
   "source": [
    "print(f'''\n",
    "Without Tuning, the Best Performing Model was: Random Forest (n_estimators=100, max_depth=4)\n",
    "\n",
    "With Tuning, the Best Performing Model was: Random Forest (n_estimators={best_est}, max_depth={best_depth})\n",
    "\n",
    "''')"
   ]
  }
 ],
 "metadata": {
  "kernelspec": {
   "display_name": "Python 3.11.0 64-bit",
   "language": "python",
   "name": "python3"
  },
  "language_info": {
   "codemirror_mode": {
    "name": "ipython",
    "version": 3
   },
   "file_extension": ".py",
   "mimetype": "text/x-python",
   "name": "python",
   "nbconvert_exporter": "python",
   "pygments_lexer": "ipython3",
   "version": "3.11.0"
  },
  "orig_nbformat": 4,
  "vscode": {
   "interpreter": {
    "hash": "aee8b7b246df8f9039afb4144a1f6fd8d2ca17a180786b69acc140d282b71a49"
   }
  }
 },
 "nbformat": 4,
 "nbformat_minor": 2
}
